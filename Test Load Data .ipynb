{
    "cells": [
        {
            "cell_type": "markdown",
            "metadata": {
                "collapsed": true
            },
            "source": "# Mi primer ejemplo!!! real ...\nBy Alex A."
        },
        {
            "cell_type": "markdown",
            "metadata": {},
            "source": "Esto fue un fiasco ... jajaja ntc, ven\u00eda en un encode ANSI!!! con acentos qpm"
        },
        {
            "cell_type": "code",
            "execution_count": null,
            "metadata": {},
            "outputs": [],
            "source": "# The code was removed by Watson Studio for sharing."
        },
        {
            "cell_type": "markdown",
            "metadata": {},
            "source": "Mi segundo intento, (bueno antes quise modificar el ENCODE pero no supe!)"
        },
        {
            "cell_type": "code",
            "execution_count": 12,
            "metadata": {},
            "outputs": [
                {
                    "data": {
                        "text/html": "<div>\n<style scoped>\n    .dataframe tbody tr th:only-of-type {\n        vertical-align: middle;\n    }\n\n    .dataframe tbody tr th {\n        vertical-align: top;\n    }\n\n    .dataframe thead th {\n        text-align: right;\n    }\n</style>\n<table border=\"1\" class=\"dataframe\">\n  <thead>\n    <tr style=\"text-align: right;\">\n      <th></th>\n      <th>FECHA_ACTUALIZACION</th>\n      <th>ID_REGISTRO</th>\n      <th>ORIGEN</th>\n      <th>SECTOR</th>\n      <th>ENTIDAD_UM</th>\n      <th>SEXO</th>\n      <th>ENTIDAD_NAC</th>\n      <th>ENTIDAD_RES</th>\n      <th>MUNICIPIO_RES</th>\n      <th>TIPO_PACIENTE</th>\n      <th>...</th>\n      <th>CARDIOVASCULAR</th>\n      <th>OBESIDAD</th>\n      <th>RENAL_CRONICA</th>\n      <th>TABAQUISMO</th>\n      <th>OTRO_CASO</th>\n      <th>RESULTADO</th>\n      <th>MIGRANTE</th>\n      <th>PAIS_NACIONALIDAD</th>\n      <th>PAIS_ORIGEN</th>\n      <th>UCI</th>\n    </tr>\n  </thead>\n  <tbody>\n    <tr>\n      <th>0</th>\n      <td>2020-06-18</td>\n      <td>1ccc07</td>\n      <td>2</td>\n      <td>3</td>\n      <td>15</td>\n      <td>1</td>\n      <td>15</td>\n      <td>15</td>\n      <td>20</td>\n      <td>1</td>\n      <td>...</td>\n      <td>2</td>\n      <td>2</td>\n      <td>2</td>\n      <td>2</td>\n      <td>1</td>\n      <td>1</td>\n      <td>99</td>\n      <td>M\u00e9xico</td>\n      <td>99</td>\n      <td>97</td>\n    </tr>\n    <tr>\n      <th>1</th>\n      <td>2020-06-18</td>\n      <td>17a525</td>\n      <td>2</td>\n      <td>3</td>\n      <td>27</td>\n      <td>2</td>\n      <td>27</td>\n      <td>27</td>\n      <td>4</td>\n      <td>2</td>\n      <td>...</td>\n      <td>2</td>\n      <td>2</td>\n      <td>1</td>\n      <td>2</td>\n      <td>99</td>\n      <td>1</td>\n      <td>99</td>\n      <td>M\u00e9xico</td>\n      <td>99</td>\n      <td>2</td>\n    </tr>\n    <tr>\n      <th>2</th>\n      <td>2020-06-18</td>\n      <td>0c43e9</td>\n      <td>2</td>\n      <td>3</td>\n      <td>27</td>\n      <td>2</td>\n      <td>27</td>\n      <td>27</td>\n      <td>2</td>\n      <td>1</td>\n      <td>...</td>\n      <td>2</td>\n      <td>2</td>\n      <td>2</td>\n      <td>2</td>\n      <td>2</td>\n      <td>1</td>\n      <td>99</td>\n      <td>M\u00e9xico</td>\n      <td>99</td>\n      <td>97</td>\n    </tr>\n    <tr>\n      <th>3</th>\n      <td>2020-06-18</td>\n      <td>148214</td>\n      <td>2</td>\n      <td>4</td>\n      <td>2</td>\n      <td>2</td>\n      <td>2</td>\n      <td>2</td>\n      <td>4</td>\n      <td>2</td>\n      <td>...</td>\n      <td>1</td>\n      <td>2</td>\n      <td>2</td>\n      <td>2</td>\n      <td>99</td>\n      <td>1</td>\n      <td>99</td>\n      <td>M\u00e9xico</td>\n      <td>99</td>\n      <td>2</td>\n    </tr>\n    <tr>\n      <th>4</th>\n      <td>2020-06-18</td>\n      <td>001423</td>\n      <td>2</td>\n      <td>4</td>\n      <td>9</td>\n      <td>2</td>\n      <td>9</td>\n      <td>9</td>\n      <td>2</td>\n      <td>2</td>\n      <td>...</td>\n      <td>2</td>\n      <td>2</td>\n      <td>2</td>\n      <td>2</td>\n      <td>99</td>\n      <td>1</td>\n      <td>99</td>\n      <td>M\u00e9xico</td>\n      <td>99</td>\n      <td>2</td>\n    </tr>\n  </tbody>\n</table>\n<p>5 rows \u00d7 35 columns</p>\n</div>",
                        "text/plain": "  FECHA_ACTUALIZACION ID_REGISTRO  ORIGEN  SECTOR  ENTIDAD_UM  SEXO  \\\n0          2020-06-18      1ccc07       2       3          15     1   \n1          2020-06-18      17a525       2       3          27     2   \n2          2020-06-18      0c43e9       2       3          27     2   \n3          2020-06-18      148214       2       4           2     2   \n4          2020-06-18      001423       2       4           9     2   \n\n   ENTIDAD_NAC  ENTIDAD_RES  MUNICIPIO_RES  TIPO_PACIENTE  ... CARDIOVASCULAR  \\\n0           15           15             20              1  ...              2   \n1           27           27              4              2  ...              2   \n2           27           27              2              1  ...              2   \n3            2            2              4              2  ...              1   \n4            9            9              2              2  ...              2   \n\n  OBESIDAD RENAL_CRONICA  TABAQUISMO  OTRO_CASO  RESULTADO  MIGRANTE  \\\n0        2             2           2          1          1        99   \n1        2             1           2         99          1        99   \n2        2             2           2          2          1        99   \n3        2             2           2         99          1        99   \n4        2             2           2         99          1        99   \n\n   PAIS_NACIONALIDAD  PAIS_ORIGEN  UCI  \n0             M\u00e9xico           99   97  \n1             M\u00e9xico           99    2  \n2             M\u00e9xico           99   97  \n3             M\u00e9xico           99    2  \n4             M\u00e9xico           99    2  \n\n[5 rows x 35 columns]"
                    },
                    "execution_count": 12,
                    "metadata": {},
                    "output_type": "execute_result"
                }
            ],
            "source": "# The code was removed by Watson Studio for sharing."
        },
        {
            "cell_type": "markdown",
            "metadata": {},
            "source": "Fin de mi prinmer prueba y ahora a publicarlo a GITHUB!!!"
        }
    ],
    "metadata": {
        "kernelspec": {
            "display_name": "Python 3.6",
            "language": "python",
            "name": "python3"
        },
        "language_info": {
            "codemirror_mode": {
                "name": "ipython",
                "version": 3
            },
            "file_extension": ".py",
            "mimetype": "text/x-python",
            "name": "python",
            "nbconvert_exporter": "python",
            "pygments_lexer": "ipython3",
            "version": "3.6.9"
        }
    },
    "nbformat": 4,
    "nbformat_minor": 1
}